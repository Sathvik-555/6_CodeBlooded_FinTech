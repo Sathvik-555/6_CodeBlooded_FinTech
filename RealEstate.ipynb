{
 "cells": [
  {
   "cell_type": "code",
   "execution_count": 1,
   "metadata": {},
   "outputs": [],
   "source": [
    "import pandas as pd\n",
    "import numpy as np\n",
    "import re\n",
    "from sklearn.model_selection import train_test_split\n",
    "from sklearn.ensemble import RandomForestRegressor\n",
    "from sklearn.metrics import mean_absolute_error\n",
    "from sklearn.preprocessing import OneHotEncoder\n",
    "from sklearn.compose import ColumnTransformer\n",
    "from sklearn.pipeline import Pipeline\n"
   ]
  },
  {
   "cell_type": "code",
   "execution_count": 2,
   "metadata": {},
   "outputs": [],
   "source": [
    "# Load dataset\n",
    "filename = \"\"\n",
    "city = input(\"Enter the city for which you want to find the real estate value for : \")\n",
    "if city == \"Gurgaon\":\n",
    "    filename = \"gurgaon_10k.csv\"\n",
    "elif city == \"Hyderabad\":\n",
    "    filename = \"hyderabad.csv\"\n",
    "elif city == \"Mumbai\":\n",
    "    filename = \"mumbai.csv\"    \n",
    "original = pd.read_csv(filename)\n",
    "df = pd.DataFrame(original)\n",
    "df = df[['CITY', 'PRICE_PER_UNIT_AREA', 'REGISTER_DATE']]\n",
    "df = df.dropna()"
   ]
  },
  {
   "cell_type": "code",
   "execution_count": 3,
   "metadata": {},
   "outputs": [],
   "source": [
    "# Function to clean ordinal suffixes and special date cases like \"Yesterday\" and \"Today\"\n",
    "def clean_date(date_str):\n",
    "    if isinstance(date_str, str):  # Ensure it's a string\n",
    "        # Handle \"Yesterday\" and \"Today\" with specific dates\n",
    "        if \"Yesterday\" in date_str:\n",
    "            return \"04th Oct, 2023\"  # Replace with custom date for \"Yesterday\"\n",
    "        elif \"Today\" in date_str:\n",
    "            return \"05th Oct, 2023\"  # Replace with custom date for \"Today\"\n",
    "        # Remove ordinal suffixes (st, nd, rd, th) using regex\n",
    "        return re.sub(r\"(\\d+)(st|nd|rd|th)\", r\"\\1\", date_str)\n",
    "    return date_str  # Return the date as is if it's not a string"
   ]
  },
  {
   "cell_type": "code",
   "execution_count": 5,
   "metadata": {},
   "outputs": [
    {
     "name": "stdout",
     "output_type": "stream",
     "text": [
      "              CITY  PRICE_PER_UNIT_AREA REGISTER_DATE  year  month\n",
      "0     Secunderabad               5700.0    2023-07-08  2023      7\n",
      "1        Hyderabad               6000.0    2023-04-12  2023      4\n",
      "2        Hyderabad                  0.0    2023-06-08  2023      6\n",
      "3        Hyderabad              20049.0    2023-06-08  2023      6\n",
      "4        Hyderabad               8999.0    2023-07-14  2023      7\n",
      "...            ...                  ...           ...   ...    ...\n",
      "9482     Hyderabad              19000.0    2023-06-27  2023      6\n",
      "9483     Hyderabad              11000.0    2023-06-27  2023      6\n",
      "9484  Secunderabad                 15.0    2023-06-28  2023      6\n",
      "9485     Hyderabad               6400.0    2023-08-18  2023      8\n",
      "9486     Hyderabad               5328.0    2023-08-11  2023      8\n",
      "\n",
      "[9487 rows x 5 columns]\n"
     ]
    }
   ],
   "source": [
    "# Clean the \"REGISTER_DATE\" column before converting to datetime\n",
    "df['REGISTER_DATE'] = df['REGISTER_DATE'].apply(clean_date)\n",
    "\n",
    "# Now, convert the cleaned \"REGISTER_DATE\" to datetime\n",
    "df['REGISTER_DATE'] = pd.to_datetime(df['REGISTER_DATE'], format='%d %b, %Y')\n",
    "\n",
    "# Feature engineering: Extract year and month\n",
    "df['year'] = df['REGISTER_DATE'].dt.year\n",
    "df['month'] = df['REGISTER_DATE'].dt.month\n",
    "# Show the result\n",
    "print(df)"
   ]
  },
  {
   "cell_type": "code",
   "execution_count": 6,
   "metadata": {},
   "outputs": [],
   "source": [
    "# Filter columns\n",
    "X = df[['CITY', 'year', 'month']]\n",
    "y = df['PRICE_PER_UNIT_AREA']\n",
    "df = df.dropna()"
   ]
  },
  {
   "cell_type": "code",
   "execution_count": 8,
   "metadata": {},
   "outputs": [
    {
     "name": "stdout",
     "output_type": "stream",
     "text": [
      "Predicted price per square foot: INR 12654.21\n",
      "Total amount for 1200 square feet: INR 15185052.66\n"
     ]
    }
   ],
   "source": [
    "# Train-test split\n",
    "X_train, X_test, y_train, y_test = train_test_split(X, y, test_size=0.2, random_state=42)\n",
    "\n",
    "# Preprocessing pipeline with handle_unknown='ignore'\n",
    "preprocessor = ColumnTransformer(\n",
    "    transformers=[\n",
    "        ('city', OneHotEncoder(handle_unknown='ignore'), ['CITY'])  # Handle unknown categories\n",
    "    ],\n",
    "    remainder='passthrough'\n",
    ")\n",
    "\n",
    "# Model pipeline\n",
    "model = Pipeline(steps=[\n",
    "    ('preprocessor', preprocessor),\n",
    "    ('regressor', RandomForestRegressor(n_estimators=100, random_state=42))\n",
    "])\n",
    "\n",
    "# Train model\n",
    "model.fit(X_train, y_train)\n",
    "\n",
    "# User Input\n",
    "year = int(input(\"Enter the year: \"))  # e.g., 2023\n",
    "month = int(input(\"Enter the month: \"))  # e.g., 11\n",
    "sq_ft = int(input(\"Enter the number of square feet you would like to purchase: \"))  # e.g., 1000\n",
    "\n",
    "# Create query for prediction\n",
    "query_df = pd.DataFrame({\n",
    "    'CITY': [city],\n",
    "    'year': [year],\n",
    "    'month': [month]\n",
    "})\n",
    "\n",
    "# Prediction\n",
    "predicted_price_per_sq_ft = (model.predict(query_df)[0])/5\n",
    "amount_pred = predicted_price_per_sq_ft * sq_ft\n",
    "\n",
    "# Output\n",
    "print(f\"Predicted price per square foot: INR {predicted_price_per_sq_ft:.2f}\")\n",
    "print(f\"Total amount for {sq_ft} square feet: INR {amount_pred:.2f}\")"
   ]
  }
 ],
 "metadata": {
  "kernelspec": {
   "display_name": "Python 3",
   "language": "python",
   "name": "python3"
  },
  "language_info": {
   "codemirror_mode": {
    "name": "ipython",
    "version": 3
   },
   "file_extension": ".py",
   "mimetype": "text/x-python",
   "name": "python",
   "nbconvert_exporter": "python",
   "pygments_lexer": "ipython3",
   "version": "3.12.0"
  }
 },
 "nbformat": 4,
 "nbformat_minor": 2
}
